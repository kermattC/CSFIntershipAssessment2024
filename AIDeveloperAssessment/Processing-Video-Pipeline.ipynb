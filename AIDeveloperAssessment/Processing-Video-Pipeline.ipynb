{
 "cells": [
  {
   "cell_type": "code",
   "execution_count": 1,
   "id": "294f9a6d",
   "metadata": {},
   "outputs": [],
   "source": [
    "# Assuming I have a trained model, I can use it in a live video feed to classify carrots using OpenCV\n",
    "import cv2\n",
    "\n",
    "# I'll also need to load in the model - I'll do so using tensorflow. Let's say my model name is model.h5\n",
    "import tensorflow as tf\n",
    "model = tf.keras.models.load_model('model.h5')\n",
    "\n",
    "# The plan is to take each frame, run them through the same image pre-processing that was performed for the model, then pass them into the model"
   ]
  },
  {
   "cell_type": "code",
   "execution_count": null,
   "id": "ed16565b",
   "metadata": {},
   "outputs": [],
   "source": [
    "# This function will contain the steps necessary to pre-process each frame\n",
    "def image_process(frame):\n",
    "    # first step is resizing. let's assume that the model was trained on images with dimensions 300x300\n",
    "    img = cv2.resize(frame, (300, 300))\n",
    "    # next is normalizing, which should help with removing outliers and noise\n",
    "    # normalizing\n",
    "    img_min = img.min()\n",
    "    img_max = img.max()\n",
    "    normalized_img = (img - img_min) / (img_max - img_min)\n",
    "    \n",
    "    return normalized_img"
   ]
  },
  {
   "cell_type": "code",
   "execution_count": null,
   "id": "1cade70f",
   "metadata": {},
   "outputs": [],
   "source": [
    "# We'll most likely want to review the results after, so we need something to store them\n",
    "# A basic implementation would be to just store the results in an array and display them afterwards\n",
    "prediction_results = []"
   ]
  },
  {
   "cell_type": "code",
   "execution_count": null,
   "id": "0437a144",
   "metadata": {},
   "outputs": [],
   "source": [
    "# Next we can take the video feed and start feeding each frame into the function before making the prediction\n",
    "video = cv2.VideoCapture(0)\n",
    "\n",
    "# numpy will be needed after making the predictions\n",
    "import numpy as np\n",
    "\n",
    "while True:\n",
    "    _, frame = video.read()\n",
    "    # send frame into pre-processing function\n",
    "    norm_frame = image_process(frame)\n",
    "    # use model to perform classification\n",
    "    res = model.predict(frame)\n",
    "    # since there is only one class, this falls under binary image classification. So I can convert the class scores into binary class labels\n",
    "    pred = np.where(res > 0.5, 1, 0)\n",
    "    # lastly append the results to the array\n",
    "    prediction_results.append(pres)\n",
    "    # we can also display the result to the live fideo feed via imshow\n",
    "    if (pred == 1):\n",
    "        text = \"Carrot detected\"\n",
    "    "
   ]
  },
  {
   "cell_type": "code",
   "execution_count": null,
   "id": "58126749",
   "metadata": {},
   "outputs": [],
   "source": [
    "# release the capture\n",
    "video.release()\n",
    "cv2.destroyAllWindows()"
   ]
  },
  {
   "cell_type": "code",
   "execution_count": null,
   "id": "4aaef37d",
   "metadata": {},
   "outputs": [],
   "source": []
  }
 ],
 "metadata": {
  "kernelspec": {
   "display_name": "Python 3",
   "language": "python",
   "name": "python3"
  },
  "language_info": {
   "codemirror_mode": {
    "name": "ipython",
    "version": 3
   },
   "file_extension": ".py",
   "mimetype": "text/x-python",
   "name": "python",
   "nbconvert_exporter": "python",
   "pygments_lexer": "ipython3",
   "version": "3.6.9"
  }
 },
 "nbformat": 4,
 "nbformat_minor": 5
}
